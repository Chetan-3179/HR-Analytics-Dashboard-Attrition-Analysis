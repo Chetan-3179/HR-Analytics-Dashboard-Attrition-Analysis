{
  "nbformat": 4,
  "nbformat_minor": 0,
  "metadata": {
    "colab": {
      "provenance": []
    },
    "kernelspec": {
      "name": "python3",
      "display_name": "Python 3"
    },
    "language_info": {
      "name": "python"
    }
  },
  "cells": [
    {
      "cell_type": "code",
      "execution_count": null,
      "metadata": {
        "id": "sHoM5kz4OOc3"
      },
      "outputs": [],
      "source": [
        "#All the libraries needed for the EDA\n",
        "import pandas as pd\n",
        "import seaborn as sns\n",
        "import matplotlib.pyplot as plt\n",
        "import sqlite3  # or use MySQL connector if DB is MySQL"
      ]
    },
    {
      "cell_type": "code",
      "source": [
        "# Connect to database and load data\n",
        "conn = sqlite3.connect(\"hr_data.db\")\n",
        "df = pd.read_sql(\"SELECT * FROM Employees\", conn)"
      ],
      "metadata": {
        "id": "QMcnRk3pOd-L"
      },
      "execution_count": null,
      "outputs": []
    },
    {
      "cell_type": "code",
      "source": [
        "# Overall attrition rate\n",
        "attrition_rate = df['Attrition'].value_counts(normalize=True)['Yes'] * 100\n",
        "print(\"Attrition Rate:\", round(attrition_rate, 2), \"%\")"
      ],
      "metadata": {
        "id": "_eIdT14XOiL3"
      },
      "execution_count": null,
      "outputs": []
    },
    {
      "cell_type": "code",
      "source": [
        "# Attrition by Department\n",
        "dept_attrition = df.groupby('Department')['Attrition'].value_counts(normalize=True).unstack().fillna(0) * 100\n",
        "dept_attrition['Yes'].plot(kind='bar', title='Attrition by Department')\n",
        "plt.show()"
      ],
      "metadata": {
        "id": "Dve8dXB4Ovsb"
      },
      "execution_count": null,
      "outputs": []
    },
    {
      "cell_type": "code",
      "source": [
        "# Attrition by Gender\n",
        "sns.countplot(x='Gender', hue='Attrition', data=df)\n",
        "plt.title(\"Attrition by Gender\")\n",
        "plt.show()"
      ],
      "metadata": {
        "id": "kCJgcjoQOzso"
      },
      "execution_count": null,
      "outputs": []
    },
    {
      "cell_type": "code",
      "source": [
        "# Attrition by Age Group\n",
        "df['AgeGroup'] = pd.cut(df['Age'], bins=[0,30,40,50,100], labels=['Early Career','Mid Career','Experienced','Late Career'])\n",
        "sns.countplot(x='AgeGroup', hue='Attrition', data=df, order=['Early Career','Mid Career','Experienced','Late Career'])\n",
        "plt.title(\"Attrition by Age Group\")\n",
        "plt.show()"
      ],
      "metadata": {
        "id": "4lgTJDX4O_cq"
      },
      "execution_count": null,
      "outputs": []
    },
    {
      "cell_type": "code",
      "source": [
        "# Attrition by Salary Band\n",
        "df['SalaryBand'] = pd.cut(df['MonthlyIncome'], bins=[0,5000,10000,15000,99999],\n",
        "                          labels=['Low Salary','Mid Salary','Upper Mid Salary','High Salary'])\n",
        "sns.countplot(x='SalaryBand', hue='Attrition', data=df)\n",
        "plt.title(\"Attrition by Salary Band\")\n",
        "plt.show()"
      ],
      "metadata": {
        "id": "23dwPlfOPC5y"
      },
      "execution_count": null,
      "outputs": []
    }
  ]
}